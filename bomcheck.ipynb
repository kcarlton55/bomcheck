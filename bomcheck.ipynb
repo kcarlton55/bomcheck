{
 "cells": [
  {
   "cell_type": "code",
   "execution_count": null,
   "metadata": {},
   "outputs": [],
   "source": [
    "from bomcheck import *   # load in the bomcheck.py program\n",
    "print('bomcheck version', get_version(), 'loaded')"
   ]
  },
  {
   "cell_type": "code",
   "execution_count": null,
   "metadata": {},
   "outputs": [],
   "source": [
    "d = bomcheck(\"*\")   # evaluate all (i.e., \"*\") Excel files in the current directory.  Assign to variable \"d\"."
   ]
  },
  {
   "cell_type": "code",
   "execution_count": null,
   "metadata": {},
   "outputs": [],
   "source": [
    "d.keys()   # show assembly nos. of those BOMs that have been evaluated."
   ]
  },
  {
   "cell_type": "code",
   "execution_count": null,
   "metadata": {},
   "outputs": [],
   "source": [
    "for pn, bom in d.items():  # cycle through each pn and bom in d\n",
    "    print(pn + \":\\n\")      # print the pn.  \\n prints a new line\n",
    "    print(bom)             # print the bom\n",
    "    print('\\n\\n')          # print two lines "
   ]
  }
 ],
 "metadata": {
  "kernelspec": {
   "display_name": "Python 3",
   "language": "python",
   "name": "python3"
  },
  "language_info": {
   "codemirror_mode": {
    "name": "ipython",
    "version": 3
   },
   "file_extension": ".py",
   "mimetype": "text/x-python",
   "name": "python",
   "nbconvert_exporter": "python",
   "pygments_lexer": "ipython3",
   "version": "3.7.0"
  }
 },
 "nbformat": 4,
 "nbformat_minor": 2
}
