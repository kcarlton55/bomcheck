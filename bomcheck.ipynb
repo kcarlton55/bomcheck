{
 "cells": [
  {
   "cell_type": "code",
   "execution_count": 7,
   "metadata": {},
   "outputs": [],
   "source": [
    "import bomcheck as bc  # loads bomcheck"
   ]
  },
  {
   "cell_type": "markdown",
   "metadata": {},
   "source": [
    "The function below will output data to two variables: `dfs` and `df`.  `dfs` contains SW BOMs for which no corresponding SL BOMs were found. &nbsp; `df` contains the comparison of SW to SL BOMs."
   ]
  },
  {
   "cell_type": "code",
   "execution_count": 9,
   "metadata": {
    "collapsed": true,
    "jupyter": {
     "outputs_hidden": true
    },
    "tags": []
   },
   "outputs": [
    {
     "name": "stdout",
     "output_type": "stream",
     "text": [
      "\n",
      "Created file: /media/sf_shared/projects/bomcheck/exampledata/bomcheck(10).xlsx\n",
      "\n",
      "calculation done\n"
     ]
    }
   ],
   "source": [
    "dfs, df = bc.bomcheck('mydata', x=True, d=False, c='docs/bomcheck.cfg')   # Shift-Tab to show arg descrips\n",
    "df   # show the data contained in this variable"
   ]
  }
 ],
 "metadata": {
  "interpreter": {
   "hash": "68decfe7d9055a1e6efc9f45c2202491bda368a53f60c5c5bc70e621a8cdbbbc"
  },
  "kernelspec": {
   "display_name": "Python 3 (ipykernel)",
   "language": "python",
   "name": "python3"
  },
  "language_info": {
   "codemirror_mode": {
    "name": "ipython",
    "version": 3
   },
   "file_extension": ".py",
   "mimetype": "text/x-python",
   "name": "python",
   "nbconvert_exporter": "python",
   "pygments_lexer": "ipython3",
   "version": "3.9.7"
  }
 },
 "nbformat": 4,
 "nbformat_minor": 4
}
