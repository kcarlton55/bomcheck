{
 "cells": [
  {
   "cell_type": "code",
   "execution_count": 5,
   "metadata": {
    "collapsed": true
   },
   "outputs": [
    {
     "name": "stdout",
     "output_type": "stream",
     "text": [
      "running bomcheck version: 1.0.9\n",
      "\n",
      "Created file: /home/ken/projects/project1/bomcheck(2).xlsx\n",
      "\n"
     ]
    }
   ],
   "source": [
    "# bomcheck function's arguments:\n",
    "# fn (filename)  Name of file containing a BOM. Name must end with _sw.xlsx,\n",
    "#                _sl.xlsx. _sw.csv, or _sl.csv. Enclose filename in quotes! An\n",
    "#                asterisk, *, caputures multiple files. Examples: '6890-*',\n",
    "#                '*'. _sl files without a corresponding _sw file are ignored.\n",
    "#                (default: '*')\n",
    "# d (drop)       Ignore 3*-025 pns, i.e. do not use these pns in the bom check\n",
    "#                (default: 0, i.e. False)\n",
    "# c (sheets)     Break up results across multiple sheets in bomcheck.xlsx\n",
    "#                (default: False)\n",
    "# u (username)   Initials/person's name that will be put into the footer of\n",
    "#                the bomcheck.xlsx file.  (default: 'unknown')\n",
    "\n",
    "from bomcheck import *\n",
    "print('running bomcheck version:', get_version())\n",
    "bomcheck(d=0, u='KEC')"
   ]
  }
 ],
 "metadata": {
  "kernelspec": {
   "display_name": "Python 3",
   "language": "python",
   "name": "python3"
  },
  "language_info": {
   "codemirror_mode": {
    "name": "ipython",
    "version": 3
   },
   "file_extension": ".py",
   "mimetype": "text/x-python",
   "name": "python",
   "nbconvert_exporter": "python",
   "pygments_lexer": "ipython3",
   "version": "3.7.3"
  }
 },
 "nbformat": 4,
 "nbformat_minor": 2
}
