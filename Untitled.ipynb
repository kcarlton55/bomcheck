{
 "cells": [
  {
   "cell_type": "code",
   "execution_count": 1,
   "id": "57601271-6f8b-463b-8ea6-5faa3aa64604",
   "metadata": {},
   "outputs": [],
   "source": [
    "a = ['3*-025']"
   ]
  },
  {
   "cell_type": "code",
   "execution_count": 2,
   "id": "8ae185a6-5b58-490e-b79b-ac484a3ae019",
   "metadata": {},
   "outputs": [
    {
     "name": "stdout",
     "output_type": "stream",
     "text": [
      "a is True\n"
     ]
    }
   ],
   "source": [
    "if a:\n",
    "    print('a is True')"
   ]
  },
  {
   "cell_type": "code",
   "execution_count": null,
   "id": "a0786564-2c97-47dd-a1f4-40affe507d9f",
   "metadata": {},
   "outputs": [],
   "source": [
    "a\n"
   ]
  }
 ],
 "metadata": {
  "kernelspec": {
   "display_name": "conda_env1",
   "language": "python",
   "name": "conda_env1"
  },
  "language_info": {
   "codemirror_mode": {
    "name": "ipython",
    "version": 3
   },
   "file_extension": ".py",
   "mimetype": "text/x-python",
   "name": "python",
   "nbconvert_exporter": "python",
   "pygments_lexer": "ipython3",
   "version": "3.9.7"
  }
 },
 "nbformat": 4,
 "nbformat_minor": 5
}
